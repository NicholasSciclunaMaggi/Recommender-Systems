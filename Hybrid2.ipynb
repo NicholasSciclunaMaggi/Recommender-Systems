{
 "cells": [
  {
   "metadata": {},
   "cell_type": "markdown",
   "source": "## A) Paths & imports",
   "id": "6778d90dd03ed5b1"
  },
  {
   "metadata": {
    "ExecuteTime": {
     "end_time": "2025-09-15T06:08:44.042133Z",
     "start_time": "2025-09-15T06:08:44.034622Z"
    }
   },
   "cell_type": "code",
   "source": [
    "import os, json, random, math\n",
    "from ast import literal_eval\n",
    "from collections import Counter, defaultdict\n",
    "from typing import List, Dict, Tuple\n",
    "\n",
    "import numpy as np\n",
    "import pandas as pd\n",
    "\n",
    "from sklearn.model_selection import train_test_split\n",
    "from sklearn.feature_extraction.text import TfidfVectorizer\n",
    "from sklearn.metrics import ndcg_score, average_precision_score\n",
    "\n",
    "import torch\n",
    "import torch.nn as nn\n",
    "from torch.utils.data import Dataset, DataLoader\n",
    "from tqdm.auto import tqdm\n",
    "import matplotlib.pyplot as plt\n",
    "\n",
    "import joblib\n",
    "\n",
    "BASE = r\"C:\\Users\\Nicho\\Desktop\\Literature\\Code\\recommender\\Data\"\n",
    "RECIPES_CSV = os.path.join(BASE, \"recipes\", \"PP_recipes.csv\")\n",
    "RAW_CSV     = os.path.join(BASE, \"recipes\", \"RAW_recipes.csv\")\n",
    "TRN_CSV     = os.path.join(BASE, \"recipes\", \"interactions_train.csv\")\n",
    "VAL_CSV     = os.path.join(BASE, \"recipes\", \"interactions_validation.csv\")\n",
    "TST_CSV     = os.path.join(BASE, \"recipes\", \"interactions_test.csv\")\n",
    "\n",
    "ART_DIR = os.path.join(os.getcwd(), \"artifacts_ui\")\n",
    "os.makedirs(ART_DIR, exist_ok=True)\n",
    "\n",
    "MODEL_PTH = os.path.join(os.getcwd(), \"hybrid_model.pth\")\n",
    "U2I_JSON  = os.path.join(ART_DIR, \"user2idx.json\")\n",
    "R2I_JSON  = os.path.join(ART_DIR, \"recipe2idx.json\")\n",
    "RID_NPY   = os.path.join(ART_DIR, \"recipe_ids_order.npy\")\n",
    "CM_NPY    = os.path.join(ART_DIR, \"content_matrix.npy\")\n",
    "\n",
    "device = torch.device(\"cuda\" if torch.cuda.is_available() else \"cpu\")\n",
    "device\n"
   ],
   "id": "fb30726acc43a08f",
   "outputs": [
    {
     "data": {
      "text/plain": [
       "device(type='cpu')"
      ]
     },
     "execution_count": 2,
     "metadata": {},
     "output_type": "execute_result"
    }
   ],
   "execution_count": 2
  },
  {
   "metadata": {},
   "cell_type": "markdown",
   "source": "## B) Load datasets",
   "id": "c7b69c348d5a64dd"
  },
  {
   "metadata": {
    "ExecuteTime": {
     "end_time": "2025-09-15T06:09:07.602873Z",
     "start_time": "2025-09-15T06:08:47.245299Z"
    }
   },
   "cell_type": "code",
   "source": [
    "def _safe_lit(x):\n",
    "    if isinstance(x, str):\n",
    "        try: return literal_eval(x)\n",
    "        except Exception: return x\n",
    "    return x\n",
    "\n",
    "train = pd.read_csv(TRN_CSV)\n",
    "val   = pd.read_csv(VAL_CSV)\n",
    "test  = pd.read_csv(TST_CSV)\n",
    "interactions_all = pd.concat([train, val, test], ignore_index=True)\n",
    "\n",
    "recipes = pd.read_csv(RECIPES_CSV)\n",
    "for col in ['ingredient_tokens','ingredient_ids','name_tokens']:\n",
    "    if col in recipes.columns:\n",
    "        recipes[col] = recipes[col].apply(_safe_lit)\n",
    "\n",
    "raw_recipes = pd.read_csv(RAW_CSV) if os.path.isfile(RAW_CSV) else None\n",
    "print(\"Interactions:\", interactions_all.shape)\n",
    "print(\"Recipes:\", recipes.shape, \"| RAW available:\", raw_recipes is not None)\n"
   ],
   "id": "219dbc7fd7e15976",
   "outputs": [
    {
     "name": "stdout",
     "output_type": "stream",
     "text": [
      "Interactions: (718379, 6)\n",
      "Recipes: (178265, 8) | RAW available: True\n"
     ]
    }
   ],
   "execution_count": 3
  },
  {
   "metadata": {},
   "cell_type": "markdown",
   "source": "## C) Long-tail filter",
   "id": "1a7033ffdf2752a7"
  },
  {
   "metadata": {
    "ExecuteTime": {
     "end_time": "2025-09-15T06:09:16.137834Z",
     "start_time": "2025-09-15T06:09:15.543686Z"
    }
   },
   "cell_type": "code",
   "source": [
    "user_counts   = Counter(interactions_all['user_id'])\n",
    "recipe_counts = Counter(interactions_all['recipe_id'])\n",
    "\n",
    "df_f = interactions_all[\n",
    "    (interactions_all['user_id'].map(user_counts.get) >= 5) &\n",
    "    (interactions_all['recipe_id'].map(recipe_counts.get) >= 5)\n",
    "].copy()\n",
    "\n",
    "print(f\"After filter: {len(df_f)} interactions (users={df_f['user_id'].nunique()}, recipes={df_f['recipe_id'].nunique()})\")\n"
   ],
   "id": "a20159001e93519b",
   "outputs": [
    {
     "name": "stdout",
     "output_type": "stream",
     "text": [
      "After filter: 453157 interactions (users=16356, recipes=34356)\n"
     ]
    }
   ],
   "execution_count": 4
  },
  {
   "metadata": {},
   "cell_type": "markdown",
   "source": "## D) Index maps",
   "id": "9083fbd9ae3fc880"
  },
  {
   "metadata": {
    "ExecuteTime": {
     "end_time": "2025-09-15T06:09:20.298825Z",
     "start_time": "2025-09-15T06:09:20.154826Z"
    }
   },
   "cell_type": "code",
   "source": [
    "unique_users   = df_f['user_id'].unique()\n",
    "unique_recipes = df_f['recipe_id'].unique()\n",
    "\n",
    "user2idx   = {uid:i for i,uid in enumerate(unique_users)}\n",
    "recipe2idx = {rid:i for i,rid in enumerate(unique_recipes)}\n",
    "\n",
    "df_f['user_idx']   = df_f['user_id'].map(user2idx)\n",
    "df_f['recipe_idx'] = df_f['recipe_id'].map(recipe2idx)\n",
    "\n",
    "print(\"Users:\", len(user2idx), \"| Recipes:\", len(recipe2idx))\n"
   ],
   "id": "721e6552d54327c9",
   "outputs": [
    {
     "name": "stdout",
     "output_type": "stream",
     "text": [
      "Users: 16356 | Recipes: 34356\n"
     ]
    }
   ],
   "execution_count": 5
  },
  {
   "metadata": {},
   "cell_type": "markdown",
   "source": "## E) Build content text",
   "id": "5cb094a13cf60492"
  },
  {
   "metadata": {
    "ExecuteTime": {
     "end_time": "2025-09-15T06:09:22.204035Z",
     "start_time": "2025-09-15T06:09:21.931925Z"
    }
   },
   "cell_type": "code",
   "source": [
    "def _flatten_token_field(x):\n",
    "    out=[]\n",
    "    if isinstance(x, list):\n",
    "        for g in x:\n",
    "            out.extend(g if isinstance(g, list) else [g])\n",
    "    return [str(t) for t in out]\n",
    "\n",
    "recipes_filtered = recipes[recipes['id'].isin(recipe2idx)].copy().reset_index(drop=True)\n",
    "\n",
    "ing_txt  = recipes_filtered['ingredient_tokens'].apply(_flatten_token_field).apply(lambda xs: \" \".join(xs) if xs else \"\")\n",
    "name_txt = recipes_filtered['name_tokens'].apply(_flatten_token_field).apply(lambda xs: \" \".join(xs) if xs else \"\")\n",
    "recipes_filtered['content_text'] = (ing_txt + \" \" + name_txt).str.strip()\n",
    "\n",
    "print(\"Example content_text:\", recipes_filtered['content_text'].iloc[0][:120], \"…\")\n"
   ],
   "id": "97e553bba11f6cf",
   "outputs": [
    {
     "name": "stdout",
     "output_type": "stream",
     "text": [
      "Example content_text: 2911 1019 249 6878 1353 6953 15341 3261 2056 857 643 1631 20480 40480 37229 2911 1019 249 6878 6878 2839 1781 40481 …\n"
     ]
    }
   ],
   "execution_count": 6
  },
  {
   "metadata": {},
   "cell_type": "markdown",
   "source": "## F) TF-IDF matrix",
   "id": "dd161a27098f539e"
  },
  {
   "metadata": {
    "ExecuteTime": {
     "end_time": "2025-09-15T06:09:24.679185Z",
     "start_time": "2025-09-15T06:09:23.991731Z"
    }
   },
   "cell_type": "code",
   "source": [
    "vectorizer = TfidfVectorizer(max_features=10000, min_df=2)\n",
    "content_matrix = vectorizer.fit_transform(recipes_filtered['content_text']).astype(np.float32).toarray()\n",
    "print(\"TF-IDF shape:\", content_matrix.shape)\n"
   ],
   "id": "93f43c08006a251c",
   "outputs": [
    {
     "name": "stdout",
     "output_type": "stream",
     "text": [
      "TF-IDF shape: (34356, 5027)\n"
     ]
    }
   ],
   "execution_count": 7
  },
  {
   "metadata": {},
   "cell_type": "markdown",
   "source": "## G) Align & split",
   "id": "529cf5a48dd641df"
  },
  {
   "metadata": {
    "ExecuteTime": {
     "end_time": "2025-09-15T06:09:25.999176Z",
     "start_time": "2025-09-15T06:09:25.875373Z"
    }
   },
   "cell_type": "code",
   "source": [
    "final_recipes = recipes_filtered['id'].tolist()\n",
    "recipe2idx = {rid:i for i,rid in enumerate(final_recipes)}  # overwrite to TF-IDF order\n",
    "\n",
    "df_f = df_f[df_f['recipe_id'].isin(recipe2idx)].copy()\n",
    "df_f['recipe_idx'] = df_f['recipe_id'].map(recipe2idx)\n",
    "\n",
    "train_df, temp_df = train_test_split(df_f, test_size=0.3, random_state=42)\n",
    "val_df,   test_df = train_test_split(temp_df, test_size=0.5, random_state=42)\n",
    "\n",
    "print(f\"Split — train={len(train_df)}  val={len(val_df)}  test={len(test_df)}\")\n"
   ],
   "id": "8e52986d3e467cfb",
   "outputs": [
    {
     "name": "stdout",
     "output_type": "stream",
     "text": [
      "Split — train=317209  val=67974  test=67974\n"
     ]
    }
   ],
   "execution_count": 8
  },
  {
   "metadata": {},
   "cell_type": "markdown",
   "source": "## H) Datasets & loaders",
   "id": "af8b7cd28c821b17"
  },
  {
   "metadata": {
    "ExecuteTime": {
     "end_time": "2025-09-15T06:09:36.184466Z",
     "start_time": "2025-09-15T06:09:27.874523Z"
    }
   },
   "cell_type": "code",
   "source": [
    "class RecipeDataset(Dataset):\n",
    "    def __init__(self, df):\n",
    "        self.u = df['user_idx'].values\n",
    "        self.r = df['recipe_idx'].values\n",
    "        self.y = df['rating'].values\n",
    "        self.X = content_matrix[self.r]\n",
    "    def __len__(self): return len(self.u)\n",
    "    def __getitem__(self, i):\n",
    "        return (torch.tensor(self.u[i], dtype=torch.long),\n",
    "                torch.tensor(self.r[i], dtype=torch.long),\n",
    "                torch.tensor(self.X[i], dtype=torch.float32),\n",
    "                torch.tensor(self.y[i], dtype=torch.float32))\n",
    "\n",
    "train_loader = DataLoader(RecipeDataset(train_df), batch_size=512, shuffle=True)\n",
    "val_loader   = DataLoader(RecipeDataset(val_df),   batch_size=512)\n",
    "test_loader  = DataLoader(RecipeDataset(test_df),  batch_size=512)\n",
    "\n",
    "print(\"Dataloaders ready.\")\n"
   ],
   "id": "f86c54e06c9744b9",
   "outputs": [
    {
     "name": "stdout",
     "output_type": "stream",
     "text": [
      "Dataloaders ready.\n"
     ]
    }
   ],
   "execution_count": 9
  },
  {
   "metadata": {},
   "cell_type": "markdown",
   "source": "## I) Hybrid model",
   "id": "b9e6bfd576b09ec3"
  },
  {
   "metadata": {
    "ExecuteTime": {
     "end_time": "2025-09-15T06:09:41.900316Z",
     "start_time": "2025-09-15T06:09:38.647418Z"
    }
   },
   "cell_type": "code",
   "source": [
    "class HybridRecModel(nn.Module):\n",
    "    def __init__(self, n_users, n_items, content_dim, emb=96, p_drop=0.15):\n",
    "        super().__init__()\n",
    "        self.user_embed   = nn.Embedding(n_users, emb)\n",
    "        self.item_embed   = nn.Embedding(n_items, emb)\n",
    "        self.content_fc   = nn.Linear(content_dim, emb)\n",
    "        self.drop         = nn.Dropout(p_drop)\n",
    "        self.out          = nn.Linear(emb*3, 1)\n",
    "    def forward(self, u_idx, i_idx, c_vec):\n",
    "        u = self.user_embed(u_idx)\n",
    "        v = self.item_embed(i_idx)\n",
    "        c = torch.relu(self.content_fc(c_vec))\n",
    "        x = torch.cat([u,v,c], dim=1)\n",
    "        x = self.drop(x)\n",
    "        return self.out(x).reshape(-1)\n",
    "\n",
    "model = HybridRecModel(len(user2idx), len(recipe2idx), content_matrix.shape[1]).to(device)\n",
    "optimizer = torch.optim.AdamW(model.parameters(), lr=1e-3, weight_decay=1e-5)\n",
    "criterion = nn.MSELoss()\n"
   ],
   "id": "78d2c0a56cd36996",
   "outputs": [],
   "execution_count": 10
  },
  {
   "metadata": {},
   "cell_type": "markdown",
   "source": "## J) Simple BPR sampler",
   "id": "45e66daad54d6796"
  },
  {
   "metadata": {
    "ExecuteTime": {
     "end_time": "2025-09-15T06:09:45.475016Z",
     "start_time": "2025-09-15T06:09:45.222728Z"
    }
   },
   "cell_type": "code",
   "source": [
    "pos_by_user = defaultdict(set)\n",
    "for u,r in zip(df_f['user_idx'].values, df_f['recipe_idx'].values):\n",
    "    pos_by_user[int(u)].add(int(r))\n",
    "\n",
    "def sample_neg_for(user_idx, n_items, forbidden: set):\n",
    "    while True:\n",
    "        j = int(np.random.randint(0, n_items))\n",
    "        if j not in forbidden: return j\n"
   ],
   "id": "333a9e748dc8a13f",
   "outputs": [],
   "execution_count": 11
  },
  {
   "metadata": {},
   "cell_type": "markdown",
   "source": "## K) Train (MSE + λ·BPR)",
   "id": "861d45c4c686f193"
  },
  {
   "metadata": {
    "ExecuteTime": {
     "end_time": "2025-09-15T06:19:32.279103Z",
     "start_time": "2025-09-15T06:09:49.150284Z"
    }
   },
   "cell_type": "code",
   "source": [
    "LAMBDA_BPR = 0.3\n",
    "EPOCHS = 20\n",
    "best_val = float(\"inf\"); best = None\n",
    "hist = {\"train_total\":[], \"train_mse\":[], \"train_bpr\":[], \"val_mse\":[]}\n",
    "\n",
    "for ep in range(1, EPOCHS+1):\n",
    "    model.train()\n",
    "    s_total = s_mse = s_bpr = 0.0\n",
    "    for u, r, X, y in tqdm(train_loader, leave=False):\n",
    "        u, r, X, y = u.to(device), r.to(device), X.to(device), y.to(device)\n",
    "        pred = model(u, r, X)\n",
    "        mse  = criterion(pred, y)\n",
    "\n",
    "        # BPR\n",
    "        neg = [sample_neg_for(int(ui), len(recipe2idx), pos_by_user[int(ui)]) for ui in u.cpu().numpy()]\n",
    "        neg = torch.tensor(neg, dtype=torch.long, device=device)\n",
    "        Xn  = torch.tensor(content_matrix[neg.cpu().numpy()], dtype=torch.float32, device=device)\n",
    "        s_pos = model(u, r, X)\n",
    "        s_neg = model(u, neg, Xn)\n",
    "        bpr   = torch.relu(1.0 - (s_pos - s_neg)).mean()\n",
    "\n",
    "        loss = mse + LAMBDA_BPR * bpr\n",
    "        optimizer.zero_grad(); loss.backward(); optimizer.step()\n",
    "\n",
    "        bs = u.size(0); s_total += loss.item()*bs; s_mse += mse.item()*bs; s_bpr += bpr.item()*bs\n",
    "\n",
    "    tr_total = s_total/len(train_loader.dataset)\n",
    "    tr_mse   = s_mse/len(train_loader.dataset)\n",
    "    tr_bpr   = s_bpr/len(train_loader.dataset)\n",
    "\n",
    "    model.eval(); v_sum = 0.0\n",
    "    with torch.no_grad():\n",
    "        for u, r, X, y in val_loader:\n",
    "            u, r, X, y = u.to(device), r.to(device), X.to(device), y.to(device)\n",
    "            v_sum += criterion(model(u, r, X), y).item()*u.size(0)\n",
    "    v_mse = v_sum/len(val_loader.dataset)\n",
    "\n",
    "    hist[\"train_total\"].append(tr_total); hist[\"train_mse\"].append(tr_mse); hist[\"train_bpr\"].append(tr_bpr); hist[\"val_mse\"].append(v_mse)\n",
    "    if v_mse < best_val:\n",
    "        best_val = v_mse; best = {k:v.detach().cpu().clone() for k,v in model.state_dict().items()}\n",
    "        print(f\"New best @ epoch {ep} (val MSE={best_val:.4f})\")\n",
    "    print(f\"Epoch {ep}/{EPOCHS} | Train total={tr_total:.4f} mse={tr_mse:.4f} bpr={tr_bpr:.4f} | Val MSE={v_mse:.4f}\")\n",
    "\n",
    "if best is not None:\n",
    "    model.load_state_dict(best)\n",
    "    print(f\"Restored best (val MSE={best_val:.4f})\")\n"
   ],
   "id": "6f500da570d01c0d",
   "outputs": [
    {
     "data": {
      "text/plain": [
       "  0%|          | 0/620 [00:00<?, ?it/s]"
      ],
      "application/vnd.jupyter.widget-view+json": {
       "version_major": 2,
       "version_minor": 0,
       "model_id": "29c2e22bba4d46c49d3505c179d3e32b"
      }
     },
     "metadata": {},
     "output_type": "display_data"
    },
    {
     "name": "stdout",
     "output_type": "stream",
     "text": [
      "New best @ epoch 1 (val MSE=0.8852)\n",
      "Epoch 1/20 | Train total=3.2536 mse=2.9536 bpr=0.9998 | Val MSE=0.8852\n"
     ]
    },
    {
     "data": {
      "text/plain": [
       "  0%|          | 0/620 [00:00<?, ?it/s]"
      ],
      "application/vnd.jupyter.widget-view+json": {
       "version_major": 2,
       "version_minor": 0,
       "model_id": "ac4ef83f880d4c85bcbafe6da0c5a2d6"
      }
     },
     "metadata": {},
     "output_type": "display_data"
    },
    {
     "name": "stdout",
     "output_type": "stream",
     "text": [
      "New best @ epoch 2 (val MSE=0.8368)\n",
      "Epoch 2/20 | Train total=1.2417 mse=0.9498 bpr=0.9730 | Val MSE=0.8368\n"
     ]
    },
    {
     "data": {
      "text/plain": [
       "  0%|          | 0/620 [00:00<?, ?it/s]"
      ],
      "application/vnd.jupyter.widget-view+json": {
       "version_major": 2,
       "version_minor": 0,
       "model_id": "ee7821ad3de64e09a4ce8939bf839501"
      }
     },
     "metadata": {},
     "output_type": "display_data"
    },
    {
     "name": "stdout",
     "output_type": "stream",
     "text": [
      "New best @ epoch 3 (val MSE=0.8120)\n",
      "Epoch 3/20 | Train total=1.1953 mse=0.9072 bpr=0.9603 | Val MSE=0.8120\n"
     ]
    },
    {
     "data": {
      "text/plain": [
       "  0%|          | 0/620 [00:00<?, ?it/s]"
      ],
      "application/vnd.jupyter.widget-view+json": {
       "version_major": 2,
       "version_minor": 0,
       "model_id": "3c7fd72c48854afeb7080d6fab7a9239"
      }
     },
     "metadata": {},
     "output_type": "display_data"
    },
    {
     "name": "stdout",
     "output_type": "stream",
     "text": [
      "New best @ epoch 4 (val MSE=0.7990)\n",
      "Epoch 4/20 | Train total=1.1604 mse=0.8759 bpr=0.9483 | Val MSE=0.7990\n"
     ]
    },
    {
     "data": {
      "text/plain": [
       "  0%|          | 0/620 [00:00<?, ?it/s]"
      ],
      "application/vnd.jupyter.widget-view+json": {
       "version_major": 2,
       "version_minor": 0,
       "model_id": "4007124e3cc14cc4a70a486b5dab7661"
      }
     },
     "metadata": {},
     "output_type": "display_data"
    },
    {
     "name": "stdout",
     "output_type": "stream",
     "text": [
      "New best @ epoch 5 (val MSE=0.7933)\n",
      "Epoch 5/20 | Train total=1.1258 mse=0.8461 bpr=0.9322 | Val MSE=0.7933\n"
     ]
    },
    {
     "data": {
      "text/plain": [
       "  0%|          | 0/620 [00:00<?, ?it/s]"
      ],
      "application/vnd.jupyter.widget-view+json": {
       "version_major": 2,
       "version_minor": 0,
       "model_id": "eb3074c4be9646ef819a4365144bc68e"
      }
     },
     "metadata": {},
     "output_type": "display_data"
    },
    {
     "name": "stdout",
     "output_type": "stream",
     "text": [
      "New best @ epoch 6 (val MSE=0.7864)\n",
      "Epoch 6/20 | Train total=1.0973 mse=0.8220 bpr=0.9176 | Val MSE=0.7864\n"
     ]
    },
    {
     "data": {
      "text/plain": [
       "  0%|          | 0/620 [00:00<?, ?it/s]"
      ],
      "application/vnd.jupyter.widget-view+json": {
       "version_major": 2,
       "version_minor": 0,
       "model_id": "89bd56b2469147b088f002c186765454"
      }
     },
     "metadata": {},
     "output_type": "display_data"
    },
    {
     "name": "stdout",
     "output_type": "stream",
     "text": [
      "Epoch 7/20 | Train total=1.0726 mse=0.8014 bpr=0.9039 | Val MSE=0.7881\n"
     ]
    },
    {
     "data": {
      "text/plain": [
       "  0%|          | 0/620 [00:00<?, ?it/s]"
      ],
      "application/vnd.jupyter.widget-view+json": {
       "version_major": 2,
       "version_minor": 0,
       "model_id": "c151f6109cab4bb2bf7d99a026ff4c8b"
      }
     },
     "metadata": {},
     "output_type": "display_data"
    },
    {
     "name": "stdout",
     "output_type": "stream",
     "text": [
      "Epoch 8/20 | Train total=1.0536 mse=0.7858 bpr=0.8929 | Val MSE=0.7881\n"
     ]
    },
    {
     "data": {
      "text/plain": [
       "  0%|          | 0/620 [00:00<?, ?it/s]"
      ],
      "application/vnd.jupyter.widget-view+json": {
       "version_major": 2,
       "version_minor": 0,
       "model_id": "d961af867f354ff79f549b7532a90ff6"
      }
     },
     "metadata": {},
     "output_type": "display_data"
    },
    {
     "name": "stdout",
     "output_type": "stream",
     "text": [
      "Epoch 9/20 | Train total=1.0372 mse=0.7714 bpr=0.8859 | Val MSE=0.7928\n"
     ]
    },
    {
     "data": {
      "text/plain": [
       "  0%|          | 0/620 [00:00<?, ?it/s]"
      ],
      "application/vnd.jupyter.widget-view+json": {
       "version_major": 2,
       "version_minor": 0,
       "model_id": "42b462204d034906b4931ac5d83c2565"
      }
     },
     "metadata": {},
     "output_type": "display_data"
    },
    {
     "name": "stdout",
     "output_type": "stream",
     "text": [
      "Epoch 10/20 | Train total=1.0235 mse=0.7597 bpr=0.8794 | Val MSE=0.8001\n"
     ]
    },
    {
     "data": {
      "text/plain": [
       "  0%|          | 0/620 [00:00<?, ?it/s]"
      ],
      "application/vnd.jupyter.widget-view+json": {
       "version_major": 2,
       "version_minor": 0,
       "model_id": "a56c4e07bb86484f8e7a778b055303e6"
      }
     },
     "metadata": {},
     "output_type": "display_data"
    },
    {
     "name": "stdout",
     "output_type": "stream",
     "text": [
      "Epoch 11/20 | Train total=1.0126 mse=0.7504 bpr=0.8740 | Val MSE=0.7981\n"
     ]
    },
    {
     "data": {
      "text/plain": [
       "  0%|          | 0/620 [00:00<?, ?it/s]"
      ],
      "application/vnd.jupyter.widget-view+json": {
       "version_major": 2,
       "version_minor": 0,
       "model_id": "32b1fab8c691471caadc0f1ebbd13c86"
      }
     },
     "metadata": {},
     "output_type": "display_data"
    },
    {
     "name": "stdout",
     "output_type": "stream",
     "text": [
      "Epoch 12/20 | Train total=1.0005 mse=0.7394 bpr=0.8703 | Val MSE=0.8065\n"
     ]
    },
    {
     "data": {
      "text/plain": [
       "  0%|          | 0/620 [00:00<?, ?it/s]"
      ],
      "application/vnd.jupyter.widget-view+json": {
       "version_major": 2,
       "version_minor": 0,
       "model_id": "488b090fb2154f5299673de8e56de21f"
      }
     },
     "metadata": {},
     "output_type": "display_data"
    },
    {
     "name": "stdout",
     "output_type": "stream",
     "text": [
      "Epoch 13/20 | Train total=0.9914 mse=0.7317 bpr=0.8656 | Val MSE=0.8025\n"
     ]
    },
    {
     "data": {
      "text/plain": [
       "  0%|          | 0/620 [00:00<?, ?it/s]"
      ],
      "application/vnd.jupyter.widget-view+json": {
       "version_major": 2,
       "version_minor": 0,
       "model_id": "d3cfe35f22be4ef7b9e3033c17ee3876"
      }
     },
     "metadata": {},
     "output_type": "display_data"
    },
    {
     "name": "stdout",
     "output_type": "stream",
     "text": [
      "Epoch 14/20 | Train total=0.9835 mse=0.7239 bpr=0.8655 | Val MSE=0.8045\n"
     ]
    },
    {
     "data": {
      "text/plain": [
       "  0%|          | 0/620 [00:00<?, ?it/s]"
      ],
      "application/vnd.jupyter.widget-view+json": {
       "version_major": 2,
       "version_minor": 0,
       "model_id": "f535fc6487b1453bb3c7cc7132e2acf3"
      }
     },
     "metadata": {},
     "output_type": "display_data"
    },
    {
     "name": "stdout",
     "output_type": "stream",
     "text": [
      "Epoch 15/20 | Train total=0.9767 mse=0.7182 bpr=0.8616 | Val MSE=0.8069\n"
     ]
    },
    {
     "data": {
      "text/plain": [
       "  0%|          | 0/620 [00:00<?, ?it/s]"
      ],
      "application/vnd.jupyter.widget-view+json": {
       "version_major": 2,
       "version_minor": 0,
       "model_id": "96093193092c4724be9903fff9006d61"
      }
     },
     "metadata": {},
     "output_type": "display_data"
    },
    {
     "name": "stdout",
     "output_type": "stream",
     "text": [
      "Epoch 16/20 | Train total=0.9704 mse=0.7121 bpr=0.8608 | Val MSE=0.8143\n"
     ]
    },
    {
     "data": {
      "text/plain": [
       "  0%|          | 0/620 [00:00<?, ?it/s]"
      ],
      "application/vnd.jupyter.widget-view+json": {
       "version_major": 2,
       "version_minor": 0,
       "model_id": "12108deae6df42149776d91e27a7ab43"
      }
     },
     "metadata": {},
     "output_type": "display_data"
    },
    {
     "name": "stdout",
     "output_type": "stream",
     "text": [
      "Epoch 17/20 | Train total=0.9659 mse=0.7079 bpr=0.8599 | Val MSE=0.8129\n"
     ]
    },
    {
     "data": {
      "text/plain": [
       "  0%|          | 0/620 [00:00<?, ?it/s]"
      ],
      "application/vnd.jupyter.widget-view+json": {
       "version_major": 2,
       "version_minor": 0,
       "model_id": "930eb8518ef84cbcb3ee5de8ed008acb"
      }
     },
     "metadata": {},
     "output_type": "display_data"
    },
    {
     "name": "stdout",
     "output_type": "stream",
     "text": [
      "Epoch 18/20 | Train total=0.9607 mse=0.7032 bpr=0.8581 | Val MSE=0.8164\n"
     ]
    },
    {
     "data": {
      "text/plain": [
       "  0%|          | 0/620 [00:00<?, ?it/s]"
      ],
      "application/vnd.jupyter.widget-view+json": {
       "version_major": 2,
       "version_minor": 0,
       "model_id": "439fc2a9103643ea8671f1604a0cb02e"
      }
     },
     "metadata": {},
     "output_type": "display_data"
    },
    {
     "name": "stdout",
     "output_type": "stream",
     "text": [
      "Epoch 19/20 | Train total=0.9562 mse=0.6992 bpr=0.8568 | Val MSE=0.8133\n"
     ]
    },
    {
     "data": {
      "text/plain": [
       "  0%|          | 0/620 [00:00<?, ?it/s]"
      ],
      "application/vnd.jupyter.widget-view+json": {
       "version_major": 2,
       "version_minor": 0,
       "model_id": "f53782117b9e40eba4e81fbae7a74f94"
      }
     },
     "metadata": {},
     "output_type": "display_data"
    },
    {
     "name": "stdout",
     "output_type": "stream",
     "text": [
      "Epoch 20/20 | Train total=0.9506 mse=0.6935 bpr=0.8570 | Val MSE=0.8162\n",
      "Restored best (val MSE=0.7864)\n"
     ]
    }
   ],
   "execution_count": 12
  },
  {
   "metadata": {},
   "cell_type": "markdown",
   "source": "## L) Save model & artifacts",
   "id": "bf6d7945f38e0def"
  },
  {
   "metadata": {
    "ExecuteTime": {
     "end_time": "2025-09-15T06:25:32.670198Z",
     "start_time": "2025-09-15T06:25:31.820933Z"
    }
   },
   "cell_type": "code",
   "source": [
    "import json, numpy as np, os, torch\n",
    "\n",
    "# Reuse paths defined earlier (MODEL_PTH, ART_DIR, U2I_JSON, R2I_JSON, RID_NPY, CM_NPY)\n",
    "os.makedirs(ART_DIR, exist_ok=True)\n",
    "\n",
    "torch.save(model.state_dict(), MODEL_PTH)\n",
    "with open(U2I_JSON, \"w\", encoding=\"utf-8\") as f: json.dump({int(k): int(v) for k, v in user2idx.items()}, f)\n",
    "with open(R2I_JSON, \"w\", encoding=\"utf-8\") as f: json.dump({int(k): int(v) for k, v in recipe2idx.items()}, f)\n",
    "np.save(RID_NPY, np.array(final_recipes, dtype=np.int64))\n",
    "np.save(CM_NPY,  content_matrix.astype(np.float32))\n",
    "# Persist the fitted TF-IDF vectorizer for future item encodes\n",
    "joblib.dump(vectorizer, os.path.join(ART_DIR, \"tfidf_vectorizer.joblib\"))\n",
    "print(\"Saved:\", \"tfidf_vectorizer.joblib\")\n",
    "\n",
    "print(\"Saved:\", MODEL_PTH)\n",
    "print(\"Artifacts:\", os.path.basename(U2I_JSON), os.path.basename(R2I_JSON),\n",
    "      os.path.basename(RID_NPY), os.path.basename(CM_NPY))\n"
   ],
   "id": "835dadffcecfddbb",
   "outputs": [
    {
     "name": "stdout",
     "output_type": "stream",
     "text": [
      "Saved: tfidf_vectorizer.joblib\n",
      "Saved: C:\\Users\\Nicho\\Desktop\\Literature\\Code\\recommender\\hybrid_model.pth\n",
      "Artifacts: user2idx.json recipe2idx.json recipe_ids_order.npy content_matrix.npy\n"
     ]
    }
   ],
   "execution_count": 13
  },
  {
   "metadata": {},
   "cell_type": "markdown",
   "source": "## M) Evaluation helper (Top-K)",
   "id": "d36d03fbb116ffa6"
  },
  {
   "metadata": {
    "ExecuteTime": {
     "end_time": "2025-09-15T06:25:34.717947Z",
     "start_time": "2025-09-15T06:25:34.711346Z"
    }
   },
   "cell_type": "code",
   "source": [
    "import numpy as np\n",
    "from collections import defaultdict\n",
    "from sklearn.metrics import ndcg_score, average_precision_score\n",
    "\n",
    "def evaluate_topk(model, dataloader, top_k=5):\n",
    "    model.eval()\n",
    "    upred, truth = defaultdict(list), defaultdict(list)\n",
    "\n",
    "    with torch.no_grad():\n",
    "        for u, r, X, y in dataloader:\n",
    "            p = model(u.to(device), r.to(device), X.to(device)).cpu().numpy()\n",
    "            for uid, ridx, pred, yv in zip(u.numpy(), r.numpy(), p, y.numpy()):\n",
    "                upred[int(uid)].append((float(pred), int(ridx)))\n",
    "                if yv >= 4.0: truth[int(uid)].append(int(ridx))\n",
    "\n",
    "    precisions, recalls, f1s, ndcgs, maps = [], [], [], [], []\n",
    "    all_rec, all_unique = [], set()\n",
    "\n",
    "    for uid, arr in upred.items():\n",
    "        arr = sorted(arr, key=lambda t: t[0], reverse=True)[:top_k]\n",
    "        top_items  = [rid for _, rid in arr]\n",
    "        top_scores = [s   for s, _ in arr]\n",
    "        all_rec.extend(top_items); all_unique.update(top_items)\n",
    "\n",
    "        g = set(truth.get(uid, []))\n",
    "        hits = len(set(top_items) & g)\n",
    "        p = hits / max(1, top_k)\n",
    "        r = hits / len(g) if g else 0.0\n",
    "        f = 2*p*r/(p+r) if (p+r) > 0 else 0.0\n",
    "\n",
    "        if len(arr) >= 2:\n",
    "            y_true  = np.array([1 if rid in g else 0 for rid in top_items])[None, :]\n",
    "            y_score = np.array(top_scores)[None, :]\n",
    "            nd = float(ndcg_score(y_true, y_score, k=min(top_k, y_true.shape[1]))) if g else 0.0\n",
    "            ap = float(average_precision_score(y_true.ravel(), y_score.ravel())) if g else 0.0\n",
    "        else:\n",
    "            nd, ap = 0.0, 0.0\n",
    "\n",
    "        precisions.append(p); recalls.append(r); f1s.append(f); ndcgs.append(nd); maps.append(ap)\n",
    "\n",
    "    cov = len(all_unique) / len(recipes) if len(recipes) else 0.0\n",
    "    div = len(set(all_rec)) / len(all_rec) if all_rec else 0.0\n",
    "\n",
    "    return {\"Precision@5\": float(np.mean(precisions)) if precisions else 0.0,\n",
    "            \"Recall@5\":    float(np.mean(recalls))    if recalls    else 0.0,\n",
    "            \"F1@5\":        float(np.mean(f1s))        if f1s        else 0.0,\n",
    "            \"NDCG@5\":      float(np.mean(ndcgs))      if ndcgs      else 0.0,\n",
    "            \"MAP@5\":       float(np.mean(maps))       if maps       else 0.0,\n",
    "            \"Coverage\":    cov, \"Diversity\": div}\n"
   ],
   "id": "65417e0b9466b01b",
   "outputs": [],
   "execution_count": 14
  },
  {
   "metadata": {},
   "cell_type": "markdown",
   "source": "## N) Baseline metrics (k=5)",
   "id": "3756574d3a5cdc33"
  },
  {
   "metadata": {
    "ExecuteTime": {
     "end_time": "2025-09-15T06:33:36.023973Z",
     "start_time": "2025-09-15T06:33:30.146677Z"
    }
   },
   "cell_type": "code",
   "source": [
    "K = 5\n",
    "metrics_k = evaluate_topk(model, test_loader, top_k=K)\n",
    "for k, v in metrics_k.items():\n",
    "    print(f\"{k}: {v:.4f}\")\n"
   ],
   "id": "9b4a7c862365e2e0",
   "outputs": [
    {
     "name": "stdout",
     "output_type": "stream",
     "text": [
      "Precision@5: 0.4873\n",
      "Recall@5: 0.8555\n",
      "F1@5: 0.5207\n",
      "NDCG@5: 0.6319\n",
      "MAP@5: 0.6232\n",
      "Coverage: 0.0733\n",
      "Diversity: 0.4041\n"
     ]
    }
   ],
   "execution_count": 20
  },
  {
   "metadata": {},
   "cell_type": "markdown",
   "source": "## O) Loss curves (train vs val)",
   "id": "b002051ea4ee6c5f"
  },
  {
   "metadata": {
    "ExecuteTime": {
     "end_time": "2025-09-15T06:33:38.553836Z",
     "start_time": "2025-09-15T06:33:38.196131Z"
    }
   },
   "cell_type": "code",
   "source": [
    "import matplotlib.pyplot as plt\n",
    "\n",
    "plt.figure(figsize=(10,5))\n",
    "plt.plot(hist[\"train_total\"], label=\"train_total\")\n",
    "plt.plot(hist[\"train_mse\"],   label=\"train_mse\")\n",
    "plt.plot(hist[\"train_bpr\"],   label=\"train_bpr\")\n",
    "plt.plot(hist[\"val_mse\"],     label=\"val_mse\")\n",
    "plt.xlabel(\"Epoch\"); plt.ylabel(\"Loss\"); plt.title(\"Training & Validation Loss\")\n",
    "plt.legend(); plt.tight_layout(); plt.show()\n"
   ],
   "id": "e625c414459ae382",
   "outputs": [
    {
     "data": {
      "text/plain": [
       "<Figure size 1000x500 with 1 Axes>"
      ],
      "image/png": "[encoded data removed]"
     },
     "metadata": {},
     "output_type": "display_data"
    }
   ],
   "execution_count": 21
  },
  {
   "metadata": {},
   "cell_type": "markdown",
   "source": "## P) Metrics bar chart (k=5)",
   "id": "af5f379e4f77fb19"
  },
  {
   "metadata": {
    "ExecuteTime": {
     "end_time": "2025-09-15T06:33:41.112612Z",
     "start_time": "2025-09-15T06:33:41.030917Z"
    }
   },
   "cell_type": "code",
   "source": [
    "labels = list(metrics_k.keys())\n",
    "vals   = [metrics_k[k] for k in labels]\n",
    "\n",
    "plt.figure(figsize=(11,5))\n",
    "bars = plt.bar(labels, vals)\n",
    "plt.ylim(0, 1.0)\n",
    "plt.title(\"Hybrid — Evaluation (k=5)\")\n",
    "plt.ylabel(\"Score\")\n",
    "plt.xticks(rotation=45, ha=\"right\")\n",
    "for b, v in zip(bars, vals):\n",
    "    plt.text(b.get_x()+b.get_width()/2, v+0.01, f\"{v:.3f}\", ha=\"center\", va=\"bottom\", fontsize=9)\n",
    "plt.tight_layout(); plt.show()\n"
   ],
   "id": "2759254a4b73f303",
   "outputs": [
    {
     "data": {
      "text/plain": [
       "<Figure size 1100x500 with 1 Axes>"
      ],
      "image/png": "[encoded data removed]"
     },
     "metadata": {},
     "output_type": "display_data"
    }
   ],
   "execution_count": 22
  },
  {
   "metadata": {},
   "cell_type": "markdown",
   "source": "## Q) Predicted vs actual scatter",
   "id": "dfbef0bf7b63a3f7"
  },
  {
   "metadata": {
    "ExecuteTime": {
     "end_time": "2025-09-15T06:33:45.959727Z",
     "start_time": "2025-09-15T06:33:43.321353Z"
    }
   },
   "cell_type": "code",
   "source": [
    "def collect_preds(loader):\n",
    "    model.eval()\n",
    "    y_true, y_pred = [], []\n",
    "    with torch.no_grad():\n",
    "        for u, r, X, y in loader:\n",
    "            p = model(u.to(device), r.to(device), X.to(device)).cpu().numpy()\n",
    "            y_true.append(y.numpy()); y_pred.append(p)\n",
    "    return np.concatenate(y_true), np.concatenate(y_pred)\n",
    "\n",
    "y_tst, p_tst = collect_preds(test_loader)\n",
    "\n",
    "plt.figure(figsize=(10,5))\n",
    "plt.scatter(y_tst, p_tst, s=8, alpha=0.35)\n",
    "lims = [0, 5]\n",
    "plt.plot(lims, lims, linestyle=\"--\")\n",
    "plt.xlim(lims); plt.ylim(lims)\n",
    "plt.xlabel(\"True Rating\"); plt.ylabel(\"Predicted Rating\")\n",
    "plt.title(\"Hybrid — Predicted vs Actual (Test)\")\n",
    "plt.tight_layout(); plt.show()\n"
   ],
   "id": "bfaa8bdc582300bd",
   "outputs": [
    {
     "data": {
      "text/plain": [
       "<Figure size 1000x500 with 1 Axes>"
      ],
      "image/png": "[encoded data removed]"
     },
     "metadata": {},
     "output_type": "display_data"
    }
   ],
   "execution_count": 23
  },
  {
   "metadata": {},
   "cell_type": "markdown",
   "source": "## R) Diet ID sets",
   "id": "d4da1ed193115e65"
  },
  {
   "metadata": {
    "ExecuteTime": {
     "end_time": "2025-09-15T06:33:48.621194Z",
     "start_time": "2025-09-15T06:33:48.614548Z"
    }
   },
   "cell_type": "code",
   "source": [
    "DIET_IDS = {\n",
    "  \"MEAT_IDS\":   [\"2445\",\"3021\",\"3022\",\"3708\",\"4020\",\"4821\",\"4872\",\"6153\",\"6206\",\"715\",\"7714\",\"832\"],\n",
    "  \"FISH_IDS\":   [\"1547\",\"2657\",\"2779\",\"4231\",\"4263\",\"4270\",\"4282\",\"4954\",\"4996\",\"5704\"],\n",
    "  \"DAIRY_IDS\":  [\"1838\",\"2984\",\"3219\",\"3484\",\"4836\",\"4863\",\"5180\",\"5219\",\"6324\",\"6528\",\"728\"],\n",
    "  \"EGG_IDS\":    [\"1124\",\"1257\",\"1252\"],\n",
    "  \"GLUTEN_IDS\": [\"63\",\"332\",\"335\",\"1511\",\"1910\",\"2499\",\"3497\",\"7449\",\"7470\",\"7642\",\"7284\"]\n",
    "}\n",
    "DIET_TOGGLES = [\"pescatarian\",\"vegetarian\",\"vegan\",\"gluten_free\",\"dairy_free\"]\n"
   ],
   "id": "986a42bd891db5f2",
   "outputs": [],
   "execution_count": 24
  },
  {
   "metadata": {},
   "cell_type": "markdown",
   "source": "## S) Build diet_map",
   "id": "4616bb89a0926c88"
  },
  {
   "metadata": {
    "ExecuteTime": {
     "end_time": "2025-09-15T06:51:41.077122Z",
     "start_time": "2025-09-15T06:51:40.975055Z"
    }
   },
   "cell_type": "code",
   "source": [
    "def build_diet_map_from_ids(recipes_df: pd.DataFrame) -> Dict[int, dict]:\n",
    "    meat   = set(map(str, DIET_IDS[\"MEAT_IDS\"]))\n",
    "    fish   = set(map(str, DIET_IDS[\"FISH_IDS\"]))\n",
    "    dairy  = set(map(str, DIET_IDS[\"DAIRY_IDS\"]))\n",
    "    egg    = set(map(str, DIET_IDS[\"EGG_IDS\"]))\n",
    "    gluten = set(map(str, DIET_IDS[\"GLUTEN_IDS\"]))\n",
    "    dmap = {}\n",
    "    for rid, ids in zip(recipes_filtered[\"id\"].values, recipes_filtered[\"ingredient_ids\"].values):\n",
    "        ids = set(map(str, ids if isinstance(ids, (list, tuple)) else []))\n",
    "        has_meat, has_fish = bool(ids & meat), bool(ids & fish)\n",
    "        has_dairy, has_egg = bool(ids & dairy), bool(ids & egg)\n",
    "        has_gluten = bool(ids & gluten)\n",
    "        vegetarian  = not has_meat\n",
    "        vegan       = vegetarian and not has_dairy and not has_egg and not has_fish\n",
    "        pescatarian = not has_meat\n",
    "        gluten_free = not has_gluten\n",
    "        dairy_free  = not has_dairy\n",
    "        dmap[int(rid)] = {\"vegetarian\":vegetarian, \"vegan\":vegan, \"pescatarian\":pescatarian,\n",
    "                          \"gluten_free\":gluten_free, \"dairy_free\":dairy_free}\n",
    "    return dmap\n",
    "\n",
    "diet_map = build_diet_map_from_ids(recipes_filtered)\n",
    "len(diet_map)\n"
   ],
   "id": "54955188684e7725",
   "outputs": [
    {
     "data": {
      "text/plain": [
       "34356"
      ]
     },
     "execution_count": 30,
     "metadata": {},
     "output_type": "execute_result"
    }
   ],
   "execution_count": 30
  },
  {
   "metadata": {},
   "cell_type": "markdown",
   "source": "## T) Phrase rules + readable names",
   "id": "ff789a2a041a5cf8"
  },
  {
   "metadata": {
    "ExecuteTime": {
     "end_time": "2025-09-15T06:51:47.903018Z",
     "start_time": "2025-09-15T06:51:42.577237Z"
    }
   },
   "cell_type": "code",
   "source": [
    "from typing import List\n",
    "\n",
    "PHRASE_RULES = [\n",
    "    (\"lemon juice\", [\"lemon\",\"juice\"]),\n",
    "    (\"orange juice\", [\"orange\",\"juice\"]),\n",
    "    (\"olive oil\", [\"olive\",\"oil\"]),\n",
    "    (\"plain yogurt\", [\"plain\",\"yogurt\"]),\n",
    "    (\"sour cream\", [\"sour\",\"cream\"]),\n",
    "    (\"cream cheese\", [\"cream\",\"cheese\"]),\n",
    "    (\"brown sugar\", [\"brown\",\"sugar\"]),\n",
    "    (\"baking soda\", [\"baking\",\"soda\"]),\n",
    "    (\"baking powder\", [\"baking\",\"powder\"]),\n",
    "    (\"soy sauce\", [\"soy\",\"sauce\"]),\n",
    "    (\"black pepper\", [\"black\",\"pepper\"]),\n",
    "    (\"kosher salt\", [\"kosher\",\"salt\"]),\n",
    "]\n",
    "\n",
    "def normalize_tokens(tokens: List[str]) -> List[str]:\n",
    "    tokens = [t.lower() for t in tokens]\n",
    "    used = [False]*len(tokens); out=[]\n",
    "    for phrase, parts in PHRASE_RULES:\n",
    "        L=len(parts); i=0\n",
    "        while i<=len(tokens)-L:\n",
    "            if not any(used[i:i+L]) and tokens[i:i+L]==parts:\n",
    "                out.append(phrase);\n",
    "                for j in range(L): used[i+j]=True\n",
    "                i+=L\n",
    "            else:\n",
    "                i+=1\n",
    "    for i,t in enumerate(tokens):\n",
    "        if not used[i]: out.append(t)\n",
    "    seen=set(); res=[]\n",
    "    for w in out:\n",
    "        if w not in seen:\n",
    "            seen.add(w); res.append(w)\n",
    "    return res\n",
    "\n",
    "id_to_title, id_to_ingredients = {}, {}\n",
    "if raw_recipes is not None and {\"id\",\"ingredients\",\"name\"}.issubset(raw_recipes.columns):\n",
    "    rr = raw_recipes.copy()\n",
    "    rr[\"ingredients\"] = rr[\"ingredients\"].apply(_safe_lit)\n",
    "    keep = set(final_recipes)\n",
    "    for rid, name, ings in zip(rr[\"id\"], rr[\"name\"], rr[\"ingredients\"]):\n",
    "        if int(rid) in keep:\n",
    "            id_to_title[int(rid)] = str(name)\n",
    "            toks = [str(x).lower() for x in (ings if isinstance(ings,(list,tuple)) else [])]\n",
    "            id_to_ingredients[int(rid)] = normalize_tokens(toks)\n",
    "else:\n",
    "    for rid, toks in zip(recipes_filtered[\"id\"], recipes_filtered[\"ingredient_tokens\"]):\n",
    "        id_to_title[int(rid)] = f\"recipe {int(rid)}\"\n",
    "        flat = []\n",
    "        if isinstance(toks, list):\n",
    "            for g in toks:\n",
    "                flat.extend(g if isinstance(g, list) else [g])\n",
    "        id_to_ingredients[int(rid)] = normalize_tokens([str(t).lower() for t in flat])\n",
    "\n",
    "len(id_to_title), len(id_to_ingredients)\n"
   ],
   "id": "349d8d4234003810",
   "outputs": [
    {
     "data": {
      "text/plain": [
       "(34356, 34356)"
      ]
     },
     "execution_count": 31,
     "metadata": {},
     "output_type": "execute_result"
    }
   ],
   "execution_count": 31
  },
  {
   "metadata": {},
   "cell_type": "markdown",
   "source": "## U) Model scorers for UI",
   "id": "e357a84ed5e49fe5"
  },
  {
   "metadata": {
    "ExecuteTime": {
     "end_time": "2025-09-15T06:51:51.292479Z",
     "start_time": "2025-09-15T06:51:49.710627Z"
    }
   },
   "cell_type": "code",
   "source": [
    "# Simple user content profiles for cosine scoring + hybrid utilities\n",
    "user_profiles = {}\n",
    "dim = content_matrix.shape[1]\n",
    "ux = defaultdict(list)\n",
    "for u, r in zip(train_df['user_idx'].values, train_df['recipe_idx'].values):\n",
    "    ux[int(u)].append(int(r))\n",
    "for u, items in ux.items():\n",
    "    v = content_matrix[np.array(items)].mean(axis=0) if items else np.zeros((dim,), dtype=np.float32)\n",
    "    v = v / (np.linalg.norm(v) + 1e-9)\n",
    "    user_profiles[u] = v.astype(np.float32)\n",
    "\n",
    "def _norm(a: np.ndarray) -> np.ndarray:\n",
    "    a = np.asarray(a, dtype=np.float32)\n",
    "    if a.size == 0:\n",
    "        return a\n",
    "    mn, mx = float(a.min()), float(a.max())\n",
    "    return (a - mn) / (mx - mn + 1e-9) if mx > mn else np.zeros_like(a, dtype=np.float32)\n",
    "\n",
    "@torch.no_grad()\n",
    "def cf_scores_for(user_idx: int, cand_ridx: np.ndarray, batch=4096) -> np.ndarray:\n",
    "    cand_ridx = np.asarray(cand_ridx, dtype=np.int64)\n",
    "    # Cold-start/user-out-of-range guard\n",
    "    if int(user_idx) < 0 or int(user_idx) >= model.user_embed.num_embeddings:\n",
    "        return np.zeros((cand_ridx.shape[0],), dtype=np.float32)\n",
    "    out = np.empty(cand_ridx.shape[0], dtype=np.float32)\n",
    "    for s in range(0, len(cand_ridx), batch):\n",
    "        chunk = cand_ridx[s:s+batch]\n",
    "        u = torch.full((len(chunk),), int(user_idx), dtype=torch.long, device=device)\n",
    "        r = torch.tensor(chunk, dtype=torch.long, device=device)\n",
    "        X = torch.tensor(content_matrix[chunk], dtype=torch.float32, device=device)\n",
    "        p = model(u, r, X).reshape(-1).detach().cpu().numpy().astype(np.float32)\n",
    "        out[s:s+len(chunk)] = p\n",
    "    return out\n",
    "\n",
    "def cbf_scores_for(user_idx: int, cand_ridx: np.ndarray) -> np.ndarray:\n",
    "    prof = user_profiles.get(int(user_idx))\n",
    "    if prof is None:\n",
    "        return np.zeros((len(cand_ridx),), dtype=np.float32)\n",
    "    X  = content_matrix[np.asarray(cand_ridx, dtype=np.int64)]\n",
    "    Xn = X / (np.linalg.norm(X, axis=1, keepdims=True) + 1e-9)\n",
    "    return (Xn @ prof).astype(np.float32)\n",
    "\n",
    "def _pop_norm(cand_ridx: np.ndarray) -> np.ndarray:\n",
    "    try:\n",
    "        arr = np.array([recipe_counts.get(int(final_recipes[int(i)]), 0) for i in cand_ridx], dtype=np.float32)\n",
    "        return _norm(arr)\n",
    "    except Exception:\n",
    "        return np.zeros((len(cand_ridx),), dtype=np.float32)\n",
    "\n",
    "def fuse(cf: np.ndarray, cbf: np.ndarray, cand_ridx: np.ndarray, alpha=0.65, beta=0.10, gamma=0.0) -> np.ndarray:\n",
    "    cf = _norm(cf); cbf = _norm(cbf)\n",
    "    n = cf.shape[0]\n",
    "    if n == 0:\n",
    "        return cf\n",
    "    order = np.argsort(-cf)\n",
    "    rank = np.empty_like(order); rank[order] = np.arange(n)\n",
    "    rank_pen = (rank / max(1, n-1)).astype(np.float32)\n",
    "    pop_pen  = _pop_norm(np.asarray(cand_ridx, dtype=np.int64)) if gamma > 0 else 0.0\n",
    "    return (alpha*cf + (1-alpha)*cbf - beta*rank_pen - gamma*pop_pen).astype(np.float32)\n",
    "\n",
    "def mmr_rerank(cand_ridx: np.ndarray, scores: np.ndarray, k: int = 5, lambda_div: float = 0.3) -> np.ndarray:\n",
    "    X = content_matrix[np.asarray(cand_ridx, dtype=np.int64)]\n",
    "    Xn = X / (np.linalg.norm(X, axis=1, keepdims=True) + 1e-9)\n",
    "    sim = (Xn @ Xn.T).astype(np.float32)\n",
    "    chosen = []\n",
    "    remaining = list(np.argsort(-scores))\n",
    "    while remaining and len(chosen) < k:\n",
    "        if not chosen:\n",
    "            chosen.append(remaining.pop(0))\n",
    "        else:\n",
    "            best_idx, best_val = None, -1e9\n",
    "            for idx in remaining[:256]:  # speed cap\n",
    "                diversity = max(sim[idx, chosen]) if chosen else 0.0\n",
    "                val = lambda_div * scores[idx] - (1 - lambda_div) * diversity\n",
    "                if val > best_val:\n",
    "                    best_val, best_idx = val, idx\n",
    "            remaining.remove(best_idx)\n",
    "            chosen.append(best_idx)\n",
    "    return np.array(chosen + remaining, dtype=np.int64)\n"
   ],
   "id": "a7bf5ce6156fb701",
   "outputs": [],
   "execution_count": 32
  },
  {
   "metadata": {},
   "cell_type": "markdown",
   "source": "## V) UI helpers (random + pantry)",
   "id": "9ad7c3adef1322a2"
  },
  {
   "metadata": {
    "ExecuteTime": {
     "end_time": "2025-09-15T08:11:52.379422Z",
     "start_time": "2025-09-15T08:11:52.359159Z"
    }
   },
   "cell_type": "code",
   "source": [
    "from typing import List\n",
    "import re\n",
    "import numpy as np\n",
    "import random\n",
    "\n",
    "# Ensures final_recipes is a plain list (not Series/array)\n",
    "try:\n",
    "    final_recipes = list(final_recipes)\n",
    "except Exception:\n",
    "    pass\n",
    "\n",
    "# small utils\n",
    "def _as_int(x):\n",
    "    try:\n",
    "        return int(x)\n",
    "    except Exception:\n",
    "        return int(float(str(x)))\n",
    "\n",
    "def _rid_from_ridx(ridx):\n",
    "    return _as_int(final_recipes[_as_int(ridx)])\n",
    "\n",
    "def _normalize(seq):\n",
    "    if seq is None:\n",
    "        return []\n",
    "    try:\n",
    "        return list(normalize_tokens(seq))\n",
    "    except NameError:\n",
    "        return [str(s).strip().lower() for s in seq]\n",
    "\n",
    "def _canon_key(s: str) -> str:\n",
    "    s = str(s).strip().lower()\n",
    "    s = re.sub(r'^(is[_\\s-]*)', '', s)\n",
    "    s = s.replace('-', ' ').replace('/', ' ')\n",
    "    return re.sub(r'\\s+', '_', s)\n",
    "\n",
    "def _doc_text(rid: int) -> str:\n",
    "    ings = \" \".join(map(str, id_to_ingredients.get(int(rid), [])))\n",
    "    title = str(id_to_title.get(int(rid), \"\"))\n",
    "    return f\"{title} {ings}\".lower()\n",
    "\n",
    "def _contains_any_text(rid: int, keywords: set, patterns=()) -> bool:\n",
    "    s = _doc_text(rid)\n",
    "    if any(k in s for k in keywords):\n",
    "        return True\n",
    "    for pat in patterns:\n",
    "        if re.search(pat, s):\n",
    "            return True\n",
    "    return False\n",
    "\n",
    "# keyword sets\n",
    "_MEAT = {\n",
    "    \"beef\",\"pork\",\"bacon\",\"ham\",\"prosciutto\",\"salami\",\"mortadella\",\"chorizo\",\"pepperoni\",\n",
    "    \"pastrami\",\"bresaola\",\"sausage\",\"lamb\",\"mutton\",\"veal\",\"chicken\",\"turkey\",\"duck\"\n",
    "}\n",
    "# generic land-meat words that were letting brines/marinades slip through\n",
    "_MEAT_GENERIC = {\"meat\",\"meats\",\"poultry\",\"game\"}\n",
    "_SEAFOOD = {\n",
    "    \"fish\",\"salmon\",\"tuna\",\"cod\",\"tilapia\",\"shrimp\",\"prawn\",\"crab\",\"lobster\",\n",
    "    \"anchovy\",\"anchovies\",\"sardine\",\"mackerel\",\"clam\",\"oyster\",\"mussel\",\"scallop\"\n",
    "}\n",
    "_DAIRY = {\"milk\",\"butter\",\"cheese\",\"yogurt\",\"cream\",\"ghee\"}\n",
    "_EGGS  = {\"egg\",\"eggs\"}\n",
    "_HONEY = {\"honey\"}\n",
    "\n",
    "_MEATY_PHRASES = {\"beef stock\",\"beef broth\",\"chicken stock\",\"chicken broth\",\"pork stock\",\"pork broth\",\"lard\",\"gelatin\",\"gelatine\",\"worcestershire\"}\n",
    "_SEAFOOD_SAUCES = {\"fish sauce\",\"oyster sauce\",\"shrimp paste\"}\n",
    "\n",
    "_MEATY_PATTERNS = [\n",
    "    r\"\\b(beef|chicken|pork|turkey)\\s*[- ]?\\s*(stock|broth|fat)\\b\",\n",
    "]\n",
    "_SEAFOOD_PATTERNS = [\n",
    "    r\"\\b(fish|oyster)\\s*sauce\\b\",\n",
    "    r\"\\bshrimp\\s*paste\\b\",\n",
    "]\n",
    "\n",
    "def _has_land_meat(rid: int) -> bool:\n",
    "    return _contains_any_text(\n",
    "        rid,\n",
    "        _MEAT | _MEAT_GENERIC | _MEATY_PHRASES,\n",
    "        _MEATY_PATTERNS\n",
    "    )\n",
    "\n",
    "def _has_any_seafood(rid: int) -> bool:\n",
    "    return _contains_any_text(rid, _SEAFOOD | _SEAFOOD_SAUCES, _SEAFOOD_PATTERNS)\n",
    "\n",
    "def _as_bool_val(v) -> bool:\n",
    "    if isinstance(v, bool): return v\n",
    "    if v is None: return False\n",
    "    try:\n",
    "        if isinstance(v, (int, float)): return bool(int(v))\n",
    "        s = str(v).strip().lower()\n",
    "    except Exception:\n",
    "        return False\n",
    "    if s in {\"true\",\"t\",\"yes\",\"y\",\"1\"}:  return True\n",
    "    if s in {\"false\",\"f\",\"no\",\"n\",\"0\",\"\"}: return False\n",
    "    return False\n",
    "\n",
    "# robust diet check\n",
    "def complies(recipe_id: int, filters: List[str], exclude: List[str] = None) -> bool:\n",
    "    rid = _as_int(recipe_id)\n",
    "    filters = [_canon_key(f) for f in (filters or [])]\n",
    "\n",
    "    # Tags (safe booleans + canonical keys) — respected if present\n",
    "    tags_raw = diet_map.get(rid, {}) or {}\n",
    "    tags = { _canon_key(k): _as_bool_val(v) for k, v in dict(tags_raw).items() }\n",
    "\n",
    "    # Tag requirements (only if present)\n",
    "    for key in {\"vegetarian\",\"vegan\",\"pescatarian\",\"gluten_free\",\"dairy_free\"} & set(filters):\n",
    "        if key in tags and not tags[key]:\n",
    "            return False\n",
    "\n",
    "    # Ingredient/title guardrails\n",
    "    if \"vegetarian\" in filters:\n",
    "        if _has_land_meat(rid) or _has_any_seafood(rid):\n",
    "            return False\n",
    "    if \"vegan\" in filters:\n",
    "        if _has_land_meat(rid) or _has_any_seafood(rid) or _contains_any_text(rid, _DAIRY | _EGGS | _HONEY):\n",
    "            return False\n",
    "    if \"pescatarian\" in filters:\n",
    "        # seafood allowed; block any land-meat (incl. generic \"meats\"/\"poultry\", brines, broths)\n",
    "        if _has_land_meat(rid):\n",
    "            return False\n",
    "    if \"gluten_free\" in filters:\n",
    "        s = _doc_text(rid)\n",
    "        if any(w in s for w in [\"wheat\",\"barley\",\"rye\",\"semolina\",\"spelt\",\"farro\",\"bulgur\"]):\n",
    "            if not tags.get(\"gluten_free\", False):\n",
    "                return False\n",
    "    if \"dairy_free\" in filters:\n",
    "        if _contains_any_text(rid, _DAIRY) and not tags.get(\"dairy_free\", False):\n",
    "            return False\n",
    "\n",
    "    # Explicit ingredient exclusions\n",
    "    if exclude:\n",
    "        ex = {str(e).strip().lower() for e in exclude if str(e).strip()}\n",
    "        if any(k in _doc_text(rid) for k in ex):\n",
    "            return False\n",
    "\n",
    "    return True\n",
    "\n",
    "def _strong_diet_prefilter(rid: int, filters: List[str]) -> bool:\n",
    "    f = set(_canon_key(x) for x in (filters or []))\n",
    "    if \"vegan\" in f:\n",
    "        if _has_land_meat(rid) or _has_any_seafood(rid) or _contains_any_text(rid, _DAIRY | _EGGS | _HONEY):\n",
    "            return False\n",
    "    if \"vegetarian\" in f:\n",
    "        if _has_land_meat(rid) or _has_any_seafood(rid):\n",
    "            return False\n",
    "    if \"pescatarian\" in f:\n",
    "        if _has_land_meat(rid):\n",
    "            return False\n",
    "    if \"dairy_free\" in f and _contains_any_text(rid, _DAIRY):\n",
    "        return False\n",
    "    if \"gluten_free\" in f:\n",
    "        s = _doc_text(rid)\n",
    "        if any(w in s for w in [\"wheat\",\"barley\",\"rye\",\"semolina\",\"spelt\",\"farro\",\"bulgur\"]):\n",
    "            return False\n",
    "    return True\n",
    "\n",
    "# ranking helpers\n",
    "def model_pick_random(active_filters=None, k=1, exclude=None, use_mmr: bool = False,\n",
    "                      alpha=0.65, beta=0.10, gamma=0.0):\n",
    "    active_filters = active_filters or []\n",
    "\n",
    "    # Candidate set (apply BOTH complies and strong text guard)\n",
    "    ridxs = [\n",
    "        i for i, rid in enumerate(final_recipes)\n",
    "        if complies(rid, active_filters, exclude) and _strong_diet_prefilter(rid, active_filters)\n",
    "    ]\n",
    "    if not ridxs:\n",
    "        return None if k == 1 else []\n",
    "    ridxs = np.asarray(ridxs, dtype=np.int64)\n",
    "\n",
    "    if not user_profiles:\n",
    "        return None if k == 1 else []\n",
    "    u = random.choice(list(user_profiles.keys()))\n",
    "\n",
    "    cf  = cf_scores_for(u, ridxs)\n",
    "    cbf = cbf_scores_for(u, ridxs)\n",
    "    fin = fuse(cf, cbf, ridxs, alpha=alpha, beta=beta, gamma=gamma)\n",
    "\n",
    "    order = mmr_rerank(ridxs, fin, k=k) if use_mmr else np.argsort(-fin)\n",
    "\n",
    "    if k == 1:\n",
    "        if len(order) == 0:\n",
    "            return None\n",
    "        idx = int(order[0])\n",
    "        rid = _rid_from_ridx(ridxs[idx])\n",
    "        return {\n",
    "            \"recipe_id\": int(rid),\n",
    "            \"title\": id_to_title.get(int(rid), f\"recipe {int(rid)}\"),\n",
    "            \"ingredients\": id_to_ingredients.get(int(rid), []),\n",
    "            \"score\": float(fin[idx]),\n",
    "        }\n",
    "\n",
    "    top = []\n",
    "    for idx in map(_as_int, order[:k]):\n",
    "        rid = _rid_from_ridx(ridxs[idx])\n",
    "        top.append({\n",
    "            \"recipe_id\": int(rid),\n",
    "            \"title\": id_to_title.get(int(rid), f\"recipe {int(rid)}\"),\n",
    "            \"ingredients\": id_to_ingredients.get(int(rid), []),\n",
    "            \"score\": float(fin[idx]),\n",
    "        })\n",
    "    return top\n",
    "\n",
    "def model_pantry_recommend(pantry_text: str, active_filters=None, k=5, exclude=None,\n",
    "                           use_mmr: bool = False, alpha=0.65, beta=0.10, gamma=0.0):\n",
    "    active_filters = active_filters or []\n",
    "\n",
    "    # Normalize pantry terms\n",
    "    raw = [x.strip().strip('\"').strip(\"'\") for x in (pantry_text or \"\").split(\",\") if x.strip()]\n",
    "    pantry = set(_normalize(raw))\n",
    "\n",
    "    # Candidate set (diet/exclusion + strong text guard, to block “meats/brine” etc.)\n",
    "    ridxs = [\n",
    "        i for i, rid in enumerate(final_recipes)\n",
    "        if complies(rid, active_filters, exclude) and _strong_diet_prefilter(rid, active_filters)\n",
    "    ]\n",
    "    if not ridxs:\n",
    "        return []\n",
    "    ridxs = np.asarray(ridxs, dtype=np.int64)\n",
    "\n",
    "    if not user_profiles:\n",
    "        return []\n",
    "    u = random.choice(list(user_profiles.keys()))\n",
    "\n",
    "    # Hybrid scores (model still does the heavy lifting)\n",
    "    cf  = cf_scores_for(u, ridxs)\n",
    "    cbf = cbf_scores_for(u, ridxs)\n",
    "    fin = fuse(cf, cbf, ridxs, alpha=alpha, beta=beta, gamma=gamma)\n",
    "\n",
    "    order = mmr_rerank(ridxs, fin, k=k) if use_mmr else np.argsort(-fin)\n",
    "\n",
    "    # Build output (require pantry overlap)\n",
    "    out = []\n",
    "    for idx in map(_as_int, order[:min(2000, len(order))]):\n",
    "        rid = _rid_from_ridx(ridxs[idx])\n",
    "        ings_norm = _normalize(id_to_ingredients.get(rid, []))\n",
    "        have = sorted(pantry & set(ings_norm))\n",
    "        if not have:\n",
    "            continue\n",
    "        miss = [w for w in ings_norm if w not in pantry]\n",
    "        out.append({\n",
    "            \"recipe_id\": rid,\n",
    "            \"title\": id_to_title.get(rid, f\"recipe {rid}\"),\n",
    "            \"score\": float(fin[idx]),\n",
    "            \"matches\": have,\n",
    "            \"missing\": miss\n",
    "        })\n",
    "        if len(out) >= k:\n",
    "            break\n",
    "    return out\n"
   ],
   "id": "da40133ed807fb90",
   "outputs": [],
   "execution_count": 58
  },
  {
   "metadata": {},
   "cell_type": "markdown",
   "source": "## W) Minimal Tk window (launch last)",
   "id": "41683e17633f030c"
  },
  {
   "metadata": {
    "ExecuteTime": {
     "end_time": "2025-09-15T08:12:30.332317Z",
     "start_time": "2025-09-15T08:11:54.638003Z"
    }
   },
   "cell_type": "code",
   "source": [
    "# --- FIXED minimal Tk window (BooleanVar needs value=...) ---\n",
    "import tkinter as tk\n",
    "from tkinter import ttk, messagebox\n",
    "\n",
    "class App(tk.Tk):\n",
    "    def __init__(self):\n",
    "        super().__init__()\n",
    "        self.title(\"Recipe Demo (Hybrid)\")\n",
    "        self.geometry(\"780x600\"); self.minsize(720,520)\n",
    "\n",
    "        self.status = ttk.Label(self, text=f\"Model ready • users={len(user_profiles)} • recipes={len(final_recipes)}\", anchor=\"w\")\n",
    "        self.status.pack(side=tk.TOP, fill=tk.X, padx=10, pady=(10,0))\n",
    "\n",
    "        tabs = ttk.Notebook(self); tabs.pack(expand=1, fill=tk.BOTH, padx=10, pady=10)\n",
    "\n",
    "        # Random\n",
    "        t1 = ttk.Frame(tabs); tabs.add(t1, text=\"Random Recipe\")\n",
    "        ttk.Label(t1, text=\"Model-ranked random pick (optional dietary filters):\").pack(anchor=\"w\", padx=10, pady=(10,6))\n",
    "        # BooleanVar(value=False) instead of BooleanVar(False)\n",
    "        self.vars1 = {n: tk.BooleanVar(value=False) for n in DIET_TOGGLES}\n",
    "        row1 = ttk.Frame(t1); row1.pack(anchor=\"w\", padx=10, pady=(0,8))\n",
    "        for n,v in self.vars1.items():\n",
    "            ttk.Checkbutton(row1, text=n.replace(\"_\",\" \").title(), variable=v).pack(side=tk.LEFT, padx=(0,10))\n",
    "        ttk.Button(t1, text=\"Get Random Recipe\", command=self.on_random).pack(anchor=\"w\", padx=10, pady=(0,8))\n",
    "        self.out1 = tk.Text(t1, height=18); self.out1.pack(fill=tk.BOTH, expand=True, padx=10, pady=(0,10))\n",
    "\n",
    "        # Pantry\n",
    "        t2 = ttk.Frame(tabs); tabs.add(t2, text=\"Pantry Recommender\")\n",
    "        ttk.Label(t2, text=\"Enter pantry items (names, comma-separated):\").pack(anchor=\"w\", padx=10, pady=(10,4))\n",
    "        self.pantry_entry = ttk.Entry(t2); self.pantry_entry.insert(0, \"garlic, olive oil, lemon juice\")\n",
    "        self.pantry_entry.pack(fill=tk.X, padx=10)\n",
    "        # BooleanVar(value=False) instead of BooleanVar(False)\n",
    "        self.vars2 = {n: tk.BooleanVar(value=False) for n in DIET_TOGGLES}\n",
    "        row2 = ttk.Frame(t2); row2.pack(anchor=\"w\", padx=10, pady=(6,6))\n",
    "        for n,v in self.vars2.items():\n",
    "            ttk.Checkbutton(row2, text=n.replace(\"_\",\" \").title(), variable=v).pack(side=tk.LEFT, padx=(0,10))\n",
    "        cnt = ttk.Frame(t2); cnt.pack(anchor=\"w\", padx=10, pady=(0,8))\n",
    "        ttk.Label(cnt, text=\"How many?\").pack(side=tk.LEFT)\n",
    "        self.k_spin = tk.Spinbox(cnt, from_=1, to=20, width=5)\n",
    "        self.k_spin.delete(0, tk.END); self.k_spin.insert(0, \"5\")\n",
    "        self.k_spin.pack(side=tk.LEFT, padx=(8,0))\n",
    "        ttk.Button(t2, text=\"Recommend\", command=self.on_pantry).pack(anchor=\"w\", padx=10, pady=(0,8))\n",
    "        self.out2 = tk.Text(t2, height=18); self.out2.pack(fill=tk.BOTH, expand=True, padx=10, pady=(0,10))\n",
    "\n",
    "    def _filters(self, vd):\n",
    "        return [k for k,v in vd.items() if v.get()]\n",
    "\n",
    "    def on_random(self):\n",
    "        try:\n",
    "            f = self._filters(self.vars1)\n",
    "            rec = model_pick_random(f)\n",
    "            self.out1.delete(\"1.0\", tk.END)\n",
    "            if not rec:\n",
    "                self.out1.insert(tk.END, \"No compliant recipe found.\\n\"); return\n",
    "            self.out1.insert(tk.END, \"Model Pick\\n\")\n",
    "            self.out1.insert(tk.END, f\"Title: {rec['title']}\\nID: {rec['recipe_id']}\\nScore: {rec['score']:.3f}\\nIngredients:\\n\")\n",
    "            for w in rec[\"ingredients\"]:\n",
    "                self.out1.insert(tk.END, f\"  • {w}\\n\")\n",
    "        except Exception as e:\n",
    "            messagebox.showerror(\"Error\", str(e))\n",
    "\n",
    "    def on_pantry(self):\n",
    "        try:\n",
    "            f = self._filters(self.vars2)\n",
    "            k = int(self.k_spin.get() or 5)\n",
    "            text = self.pantry_entry.get()\n",
    "            ranked = model_pantry_recommend(text, f, k)\n",
    "            self.out2.delete(\"1.0\", tk.END)\n",
    "            if not ranked:\n",
    "                self.out2.insert(tk.END, \"No matches found for the given pantry/filters.\\n\"); return\n",
    "            self.out2.insert(tk.END, \"Pantry Recommendations\\n\")\n",
    "            for i,it in enumerate(ranked,1):\n",
    "                self.out2.insert(tk.END, f\"{i}. {it['title']} (ID: {it['recipe_id']})  |  Score: {it['score']:.3f}\\n\")\n",
    "                if it[\"matches\"]:\n",
    "                    self.out2.insert(tk.END, f\"   matches -> {', '.join(it['matches'])}\\n\")\n",
    "                if it[\"missing\"]:\n",
    "                    self.out2.insert(tk.END, \"   Ingredients missing:\\n\")\n",
    "                    for w in it[\"missing\"][:12]:\n",
    "                        self.out2.insert(tk.END, f\"     • {w}\\n\")\n",
    "        except Exception as e:\n",
    "            messagebox.showerror(\"Error\", str(e))\n",
    "\n",
    "def main():\n",
    "    app = App(); app.mainloop()\n",
    "\n",
    "main()  # run when ready\n"
   ],
   "id": "6ad6cb0841335b37",
   "outputs": [],
   "execution_count": 59
  }
 ],
 "metadata": {
  "kernelspec": {
   "display_name": "Python 3",
   "language": "python",
   "name": "python3"
  },
  "language_info": {
   "codemirror_mode": {
    "name": "ipython",
    "version": 2
   },
   "file_extension": ".py",
   "mimetype": "text/x-python",
   "name": "python",
   "nbconvert_exporter": "python",
   "pygments_lexer": "ipython2",
   "version": "2.7.6"
  }
 },
 "nbformat": 4,
 "nbformat_minor": 5
}
