{
 "cells": [
  {
   "metadata": {},
   "cell_type": "markdown",
   "source": "###  Step 1: Setup for Content-Based Filtering (CBF)",
   "id": "1c6dce72fd7abe22"
  },
  {
   "metadata": {
    "ExecuteTime": {
     "end_time": "2025-09-13T20:48:43.868712Z",
     "start_time": "2025-09-13T20:48:43.866074Z"
    }
   },
   "cell_type": "code",
   "source": [
    "import pandas as pd\n",
    "import numpy as np\n",
    "from sklearn.feature_extraction.text import TfidfVectorizer\n",
    "from sklearn.metrics.pairwise import cosine_similarity\n",
    "from collections import Counter\n",
    "import matplotlib.pyplot as plt\n",
    "import random\n"
   ],
   "id": "1374db2a88c2cbb1",
   "outputs": [],
   "execution_count": 23
  },
  {
   "metadata": {},
   "cell_type": "markdown",
   "source": [
    "### Step 2: Feature Engineering\n",
    "Recipes are represented in a similarity space built from their ingredient lists.\n",
    "Ingredients are treated as textual features and vectorized with TF-IDF.\n",
    "This does not recommend ingredients directly — it uses them as features to compute recipe–recipe similarity.\n"
   ],
   "id": "b05520a0cfa4c466"
  },
  {
   "metadata": {
    "ExecuteTime": {
     "end_time": "2025-09-13T20:49:00.509134Z",
     "start_time": "2025-09-13T20:48:57.066939Z"
    }
   },
   "cell_type": "code",
   "source": [
    "# Load the dataset\n",
    "recipes_df = pd.read_csv(\"data/recipes/RAW_recipes.csv\")\n",
    "\n",
    "print(f\"Loaded {len(recipes_df)} recipes\")\n",
    "print(\"Columns:\", recipes_df.columns.tolist())\n",
    "\n",
    "recipes_df[['id', 'name', 'ingredients']].head(3)\n"
   ],
   "id": "f71cf106c4db8099",
   "outputs": [
    {
     "name": "stdout",
     "output_type": "stream",
     "text": [
      "Loaded 231637 recipes\n",
      "Columns: ['name', 'id', 'minutes', 'contributor_id', 'submitted', 'tags', 'nutrition', 'n_steps', 'steps', 'description', 'ingredients', 'n_ingredients']\n"
     ]
    },
    {
     "data": {
      "text/plain": [
       "       id                                        name  \\\n",
       "0  137739  arriba   baked winter squash mexican style   \n",
       "1   31490            a bit different  breakfast pizza   \n",
       "2  112140                   all in the kitchen  chili   \n",
       "\n",
       "                                         ingredients  \n",
       "0  ['winter squash', 'mexican seasoning', 'mixed ...  \n",
       "1  ['prepared pizza crust', 'sausage patty', 'egg...  \n",
       "2  ['ground beef', 'yellow onions', 'diced tomato...  "
      ],
      "text/html": [
       "<div>\n",
       "<style scoped>\n",
       "    .dataframe tbody tr th:only-of-type {\n",
       "        vertical-align: middle;\n",
       "    }\n",
       "\n",
       "    .dataframe tbody tr th {\n",
       "        vertical-align: top;\n",
       "    }\n",
       "\n",
       "    .dataframe thead th {\n",
       "        text-align: right;\n",
       "    }\n",
       "</style>\n",
       "<table border=\"1\" class=\"dataframe\">\n",
       "  <thead>\n",
       "    <tr style=\"text-align: right;\">\n",
       "      <th></th>\n",
       "      <th>id</th>\n",
       "      <th>name</th>\n",
       "      <th>ingredients</th>\n",
       "    </tr>\n",
       "  </thead>\n",
       "  <tbody>\n",
       "    <tr>\n",
       "      <th>0</th>\n",
       "      <td>137739</td>\n",
       "      <td>arriba   baked winter squash mexican style</td>\n",
       "      <td>['winter squash', 'mexican seasoning', 'mixed ...</td>\n",
       "    </tr>\n",
       "    <tr>\n",
       "      <th>1</th>\n",
       "      <td>31490</td>\n",
       "      <td>a bit different  breakfast pizza</td>\n",
       "      <td>['prepared pizza crust', 'sausage patty', 'egg...</td>\n",
       "    </tr>\n",
       "    <tr>\n",
       "      <th>2</th>\n",
       "      <td>112140</td>\n",
       "      <td>all in the kitchen  chili</td>\n",
       "      <td>['ground beef', 'yellow onions', 'diced tomato...</td>\n",
       "    </tr>\n",
       "  </tbody>\n",
       "</table>\n",
       "</div>"
      ]
     },
     "execution_count": 24,
     "metadata": {},
     "output_type": "execute_result"
    }
   ],
   "execution_count": 24
  },
  {
   "metadata": {},
   "cell_type": "markdown",
   "source": "###  Step 3: Preprocess Ingredients and Build TF-IDF Matrix",
   "id": "915f71c42daa000e"
  },
  {
   "metadata": {
    "ExecuteTime": {
     "end_time": "2025-09-13T20:49:33.565381Z",
     "start_time": "2025-09-13T20:49:27.783303Z"
    }
   },
   "cell_type": "code",
   "source": [
    "from ast import literal_eval\n",
    "\n",
    "# Convert stringified ingredient lists into plain text\n",
    "recipes_df['ingredients'] = recipes_df['ingredients'].apply(literal_eval)\n",
    "recipes_df['ingredient_text'] = recipes_df['ingredients'].apply(lambda ing: ' '.join(ing))\n",
    "\n",
    "# Build TF-IDF vectors\n",
    "tfidf = TfidfVectorizer(stop_words='english')\n",
    "ingredient_matrix = tfidf.fit_transform(recipes_df['ingredient_text'])\n",
    "\n",
    "print(f\"Vectorized {ingredient_matrix.shape[0]} recipes with {ingredient_matrix.shape[1]} unique terms.\")\n"
   ],
   "id": "c5eabaad3ff9356e",
   "outputs": [
    {
     "name": "stdout",
     "output_type": "stream",
     "text": [
      "Vectorized 231637 recipes with 4158 unique terms.\n"
     ]
    }
   ],
   "execution_count": 25
  },
  {
   "metadata": {},
   "cell_type": "markdown",
   "source": [
    "### Step 4: Recommendation Generation\n",
    "Generate recipe recommendations for each user by comparing their profile\n",
    "(average of liked recipe vectors) against all other recipes in the catalogue.\n",
    "Recommendations are other **recipes** most similar in ingredient composition.\n"
   ],
   "id": "84ea29da1f89f003"
  },
  {
   "metadata": {
    "ExecuteTime": {
     "end_time": "2025-09-13T20:55:31.854392Z",
     "start_time": "2025-09-13T20:55:31.851274Z"
    }
   },
   "cell_type": "code",
   "source": [
    "def recommend_similar(recipe_id, top_k=5):\n",
    "    idx_list = recipes_df.index[recipes_df['id'] == recipe_id].tolist()\n",
    "    if not idx_list:\n",
    "        print(\"Recipe ID not found.\")\n",
    "        return []\n",
    "    idx = idx_list[0]\n",
    "\n",
    "    sim_scores = cosine_similarity(ingredient_matrix[idx], ingredient_matrix).flatten()\n",
    "\n",
    "    # Exclude the recipe itself\n",
    "    sim_scores[idx] = -1\n",
    "    top_indices = sim_scores.argsort()[::-1][:top_k]\n",
    "\n",
    "    return recipes_df.iloc[top_indices]['id'].tolist()\n"
   ],
   "id": "517a2567c6f9d37a",
   "outputs": [],
   "execution_count": 26
  },
  {
   "metadata": {},
   "cell_type": "markdown",
   "source": "###  Simulate User Profiles (Dynamic)",
   "id": "a12c167029a67a0"
  },
  {
   "metadata": {
    "ExecuteTime": {
     "end_time": "2025-09-13T20:55:50.450248Z",
     "start_time": "2025-09-13T20:55:50.428149Z"
    }
   },
   "cell_type": "code",
   "source": [
    "# Create N simulated users with random liked items\n",
    "n_users = 5\n",
    "simulated_users = {\n",
    "    f\"user_{i+1}\": recipes_df['id'].sample(3).tolist()\n",
    "    for i in range(n_users)\n",
    "}\n",
    "simulated_users\n"
   ],
   "id": "11014c08afc6b7aa",
   "outputs": [
    {
     "data": {
      "text/plain": [
       "{'user_1': [42427, 366083, 25276],\n",
       " 'user_2': [476873, 222560, 266984],\n",
       " 'user_3': [4491, 384090, 457392],\n",
       " 'user_4': [277271, 162111, 283929],\n",
       " 'user_5': [446684, 8109, 291251]}"
      ]
     },
     "execution_count": 27,
     "metadata": {},
     "output_type": "execute_result"
    }
   ],
   "execution_count": 27
  },
  {
   "metadata": {},
   "cell_type": "markdown",
   "source": "###  Step 6: Generate Recommendations for Users",
   "id": "e0a3e394932611e2"
  },
  {
   "metadata": {
    "ExecuteTime": {
     "end_time": "2025-09-13T20:57:20.424357Z",
     "start_time": "2025-09-13T20:57:20.096397Z"
    }
   },
   "cell_type": "code",
   "source": [
    "recommendations = {}\n",
    "all_recs = set()\n",
    "\n",
    "for user, liked_ids in simulated_users.items():\n",
    "    liked_indices = [recipes_df.index[recipes_df['id'] == rid].tolist()[0] for rid in liked_ids if rid in recipes_df['id'].values]\n",
    "    profile_vector = ingredient_matrix[liked_indices].mean(axis=0)\n",
    "    profile_vector = np.asarray(profile_vector)\n",
    "\n",
    "    sim_scores = cosine_similarity(profile_vector, ingredient_matrix).flatten()\n",
    "    mask = [rid not in liked_ids for rid in recipes_df['id']]\n",
    "    sim_scores = np.where(mask, sim_scores, -1)\n",
    "\n",
    "    top_indices = sim_scores.argsort()[-5:][::-1]\n",
    "    recs = recipes_df.iloc[top_indices]['id'].tolist()\n",
    "\n",
    "    recommendations[user] = recs\n",
    "    all_recs.update(recs)\n",
    "\n",
    "print(\" Recommendations generated for all users\")\n"
   ],
   "id": "f3f4a36b9829cb4a",
   "outputs": [
    {
     "name": "stdout",
     "output_type": "stream",
     "text": [
      " Recommendations generated for all users\n"
     ]
    }
   ],
   "execution_count": 29
  },
  {
   "metadata": {},
   "cell_type": "markdown",
   "source": "## Step 7: Catalog Coverage (Dynamic)",
   "id": "e4d29522fc7969cd"
  },
  {
   "metadata": {
    "ExecuteTime": {
     "end_time": "2025-09-13T20:57:25.353679Z",
     "start_time": "2025-09-13T20:57:25.321776Z"
    }
   },
   "cell_type": "code",
   "source": [
    "all_items = set(recipes_df['id'])\n",
    "coverage = len(all_recs) / len(all_items)\n",
    "print(f\"Catalog Coverage: {coverage:.2%}\")\n"
   ],
   "id": "e3bd8a2ac4cc2e3f",
   "outputs": [
    {
     "name": "stdout",
     "output_type": "stream",
     "text": [
      "Catalog Coverage: 0.01%\n"
     ]
    }
   ],
   "execution_count": 30
  },
  {
   "metadata": {},
   "cell_type": "markdown",
   "source": "### Step 8: Redundancy in Recommendations (Dynamic)",
   "id": "34100394776ffe7a"
  },
  {
   "metadata": {
    "ExecuteTime": {
     "end_time": "2025-09-13T20:57:49.781454Z",
     "start_time": "2025-09-13T20:57:49.778008Z"
    }
   },
   "cell_type": "code",
   "source": [
    "from collections import Counter\n",
    "\n",
    "all_recs_list = [item for recs in recommendations.values() for item in recs]\n",
    "item_counts = Counter(all_recs_list)\n",
    "\n",
    "redundant_items = [item for item, count in item_counts.items() if count > 1]\n",
    "redundancy_rate = len(redundant_items) / len(all_recs_list) if all_recs_list else 0.0\n",
    "\n",
    "print(f\"Redundancy rate: {redundancy_rate:.2%}\")\n",
    "print(f\"Repeated items across users: {len(redundant_items)}\")\n"
   ],
   "id": "577566c476fe2481",
   "outputs": [
    {
     "name": "stdout",
     "output_type": "stream",
     "text": [
      "Redundancy rate: 0.00%\n",
      "Repeated items across users: 0\n"
     ]
    }
   ],
   "execution_count": 32
  },
  {
   "metadata": {},
   "cell_type": "markdown",
   "source": "### Step 9: Intra-List Similarity (Diversity)",
   "id": "56ddc53f0096d3c3"
  },
  {
   "metadata": {
    "ExecuteTime": {
     "end_time": "2025-09-13T21:00:53.070450Z",
     "start_time": "2025-09-13T21:00:53.027414Z"
    }
   },
   "cell_type": "code",
   "source": [
    "def compute_intra_list_similarity(user_recs, item_vectors, id_to_index):\n",
    "    similarities = []\n",
    "    for user, recs in user_recs.items():\n",
    "        valid_indices = [id_to_index[r] for r in recs if r in id_to_index]\n",
    "        if len(valid_indices) > 1:\n",
    "            rec_vectors = item_vectors[valid_indices].toarray()\n",
    "            sim_matrix = cosine_similarity(rec_vectors)\n",
    "            n = len(valid_indices)\n",
    "            sims = sim_matrix[np.triu_indices(n, k=1)]\n",
    "            if sims.size > 0:\n",
    "                similarities.append(sims.mean())\n",
    "    return np.mean(similarities) if similarities else 0.0\n",
    "\n",
    "# Build mapping for recipe IDs\n",
    "id_to_index = {rid: idx for idx, rid in enumerate(recipes_df['id'])}\n",
    "\n",
    "intra_similarity = compute_intra_list_similarity(recommendations, ingredient_matrix, id_to_index)\n",
    "diversity = 1 - intra_similarity\n",
    "\n",
    "print(f\"Intra-list similarity: {intra_similarity:.2f}\")\n",
    "print(f\"Diversity (1 - Intra-sim): {diversity:.2f}\")\n"
   ],
   "id": "3d2e70a4d1c433a2",
   "outputs": [
    {
     "name": "stdout",
     "output_type": "stream",
     "text": [
      "Intra-list similarity: 0.56\n",
      "Diversity (1 - Intra-sim): 0.44\n"
     ]
    }
   ],
   "execution_count": 36
  },
  {
   "metadata": {},
   "cell_type": "markdown",
   "source": "### Step 10: Profile-to-Item Similarity (Overfitting Check)",
   "id": "fab77647e066a01c"
  },
  {
   "metadata": {
    "ExecuteTime": {
     "end_time": "2025-09-13T20:58:28.092739Z",
     "start_time": "2025-09-13T20:58:28.018462Z"
    }
   },
   "cell_type": "code",
   "source": [
    "# Pick one sample user\n",
    "sample_user = list(recommendations.keys())[0]\n",
    "sample_recs = recommendations[sample_user]\n",
    "\n",
    "liked_indices = [id_to_index[r] for r in simulated_users[sample_user] if r in id_to_index]\n",
    "liked_vectors = ingredient_matrix[liked_indices].toarray()\n",
    "user_profile_vector = liked_vectors.mean(axis=0, keepdims=True)\n",
    "\n",
    "valid_indices = [id_to_index[r] for r in sample_recs if r in id_to_index]\n",
    "rec_vectors = ingredient_matrix[valid_indices].toarray()\n",
    "\n",
    "similarities = cosine_similarity(user_profile_vector, rec_vectors).flatten()\n",
    "\n",
    "plt.figure(figsize=(7,4))\n",
    "plt.bar(range(1, len(similarities)+1), similarities, color=\"mediumpurple\")\n",
    "plt.title(f\"CBF – Similarity of Recommendations to {sample_user} Profile\")\n",
    "plt.xlabel(\"Recommendation Rank\")\n",
    "plt.ylabel(\"Cosine Similarity\")\n",
    "plt.ylim(0,1)\n",
    "plt.tight_layout()\n",
    "plt.show()\n"
   ],
   "id": "66e295362bafa73c",
   "outputs": [
    {
     "data": {
      "text/plain": [
       "<Figure size 700x400 with 1 Axes>"
      ],
      "image/png": "[encoded data removed]"
     },
     "metadata": {},
     "output_type": "display_data"
    }
   ],
   "execution_count": 34
  },
  {
   "metadata": {},
   "cell_type": "markdown",
   "source": "### Visualisation\n",
   "id": "a977491cb3761cbe"
  },
  {
   "metadata": {},
   "cell_type": "markdown",
   "source": "### Step 11: Visualisation – Summary of Metrics",
   "id": "5330ab419393a41a"
  },
  {
   "metadata": {
    "ExecuteTime": {
     "end_time": "2025-09-13T20:58:50.097192Z",
     "start_time": "2025-09-13T20:58:50.029274Z"
    }
   },
   "cell_type": "code",
   "source": [
    "metrics = ['Diversity (1 - Intra-Sim)', 'Redundancy Rate', 'Catalog Coverage']\n",
    "values = [diversity, redundancy_rate, coverage]\n",
    "\n",
    "plt.figure(figsize=(7,5))\n",
    "bars = plt.bar(metrics, values, color=['skyblue','orange','lightgreen'])\n",
    "plt.title('CBF – Evaluation Metrics (Dynamic)')\n",
    "plt.ylim(0,1)\n",
    "\n",
    "for bar, val in zip(bars, values):\n",
    "    plt.text(bar.get_x() + bar.get_width()/2, val + 0.02, f\"{val:.2f}\", ha=\"center\")\n",
    "\n",
    "plt.tight_layout()\n",
    "plt.show()\n"
   ],
   "id": "883b3443575bc5a4",
   "outputs": [
    {
     "data": {
      "text/plain": [
       "<Figure size 700x500 with 1 Axes>"
      ],
      "image/png": "[encoded data removed]"
     },
     "metadata": {},
     "output_type": "display_data"
    }
   ],
   "execution_count": 35
  },
  {
   "metadata": {},
   "cell_type": "markdown",
   "source": "### Coverage Pie Chart – CBF",
   "id": "50261d61737660ab"
  },
  {
   "metadata": {
    "ExecuteTime": {
     "end_time": "2025-09-14T06:43:18.028961Z",
     "start_time": "2025-09-14T06:43:17.798750Z"
    }
   },
   "cell_type": "code",
   "source": [
    "used = coverage\n",
    "unused = 1 - used\n",
    "\n",
    "plt.figure(figsize=(5, 5))\n",
    "plt.pie([used, unused],\n",
    "        labels=['Recommended', 'Excluded'],\n",
    "        colors=['seagreen', 'lightgrey'],\n",
    "        autopct='%1.2f%%',\n",
    "        startangle=140)\n",
    "plt.title('CBF – Catalog Coverage')\n",
    "plt.tight_layout()\n",
    "plt.show()\n"
   ],
   "id": "c3f31232bc23217c",
   "outputs": [
    {
     "data": {
      "text/plain": [
       "<Figure size 500x500 with 1 Axes>"
      ],
      "image/png": "[encoded data removed]"
     },
     "metadata": {},
     "output_type": "display_data"
    }
   ],
   "execution_count": 37
  }
 ],
 "metadata": {
  "kernelspec": {
   "display_name": "Python 3",
   "language": "python",
   "name": "python3"
  },
  "language_info": {
   "codemirror_mode": {
    "name": "ipython",
    "version": 2
   },
   "file_extension": ".py",
   "mimetype": "text/x-python",
   "name": "python",
   "nbconvert_exporter": "python",
   "pygments_lexer": "ipython2",
   "version": "2.7.6"
  }
 },
 "nbformat": 4,
 "nbformat_minor": 5
}
